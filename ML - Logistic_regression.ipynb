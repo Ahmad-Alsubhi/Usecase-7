{
 "cells": [
  {
   "cell_type": "markdown",
   "metadata": {},
   "source": [
    "## Import Libraries"
   ]
  },
  {
   "cell_type": "code",
   "execution_count": 118,
   "metadata": {},
   "outputs": [],
   "source": [
    "# To ignore warnings\n",
    "import warnings\n",
    "warnings.filterwarnings(\"ignore\")\n",
    "import pandas as pd\n",
    "import numpy as np\n",
    "import matplotlib.pyplot as plt\n",
    "import seaborn as sns\n",
    "\n",
    "from sklearn.model_selection import train_test_split\n",
    "from sklearn.preprocessing import StandardScaler\n",
    "from sklearn.linear_model import LogisticRegression\n",
    "from sklearn.metrics import accuracy_score, confusion_matrix, precision_score, recall_score, f1_score\n",
    "from sklearn.model_selection import GridSearchCV\n",
    "from sklearn.preprocessing import LabelEncoder\n",
    "\n",
    "from sklearn import metrics\n",
    "\n",
    "%matplotlib inline"
   ]
  },
  {
   "cell_type": "markdown",
   "metadata": {},
   "source": [
    "## Load the Data"
   ]
  },
  {
   "cell_type": "code",
   "execution_count": 119,
   "metadata": {},
   "outputs": [],
   "source": [
    "df = pd.read_csv(\"clear_data.csv\")"
   ]
  },
  {
   "cell_type": "code",
   "execution_count": 120,
   "metadata": {},
   "outputs": [],
   "source": [
    "df.drop('Unnamed: 0' ,axis=1,inplace=True)"
   ]
  },
  {
   "cell_type": "code",
   "execution_count": 121,
   "metadata": {},
   "outputs": [
    {
     "data": {
      "text/plain": [
       "(6529, 17)"
      ]
     },
     "execution_count": 121,
     "metadata": {},
     "output_type": "execute_result"
    }
   ],
   "source": [
    "df.shape"
   ]
  },
  {
   "cell_type": "code",
   "execution_count": 122,
   "metadata": {
    "scrolled": true
   },
   "outputs": [
    {
     "data": {
      "text/html": [
       "<div>\n",
       "<style scoped>\n",
       "    .dataframe tbody tr th:only-of-type {\n",
       "        vertical-align: middle;\n",
       "    }\n",
       "\n",
       "    .dataframe tbody tr th {\n",
       "        vertical-align: top;\n",
       "    }\n",
       "\n",
       "    .dataframe thead th {\n",
       "        text-align: right;\n",
       "    }\n",
       "</style>\n",
       "<table border=\"1\" class=\"dataframe\">\n",
       "  <thead>\n",
       "    <tr style=\"text-align: right;\">\n",
       "      <th></th>\n",
       "      <th>team</th>\n",
       "      <th>position</th>\n",
       "      <th>height</th>\n",
       "      <th>age</th>\n",
       "      <th>appearance</th>\n",
       "      <th>goals</th>\n",
       "      <th>assists</th>\n",
       "      <th>red cards</th>\n",
       "      <th>clean sheets</th>\n",
       "      <th>minutes played</th>\n",
       "      <th>days_injured</th>\n",
       "      <th>games_injured</th>\n",
       "      <th>award</th>\n",
       "      <th>current_value</th>\n",
       "      <th>highest_value</th>\n",
       "      <th>position_encoded</th>\n",
       "      <th>winger</th>\n",
       "    </tr>\n",
       "  </thead>\n",
       "  <tbody>\n",
       "    <tr>\n",
       "      <th>0</th>\n",
       "      <td>Manchester United</td>\n",
       "      <td>Defender Left-Back</td>\n",
       "      <td>178</td>\n",
       "      <td>27</td>\n",
       "      <td>74</td>\n",
       "      <td>0.015374</td>\n",
       "      <td>0.169115</td>\n",
       "      <td>0.0</td>\n",
       "      <td>0.0</td>\n",
       "      <td>5854</td>\n",
       "      <td>443</td>\n",
       "      <td>70</td>\n",
       "      <td>4</td>\n",
       "      <td>35000000</td>\n",
       "      <td>42000000</td>\n",
       "      <td>2</td>\n",
       "      <td>1</td>\n",
       "    </tr>\n",
       "    <tr>\n",
       "      <th>1</th>\n",
       "      <td>Manchester United</td>\n",
       "      <td>Defender Left-Back</td>\n",
       "      <td>169</td>\n",
       "      <td>23</td>\n",
       "      <td>89</td>\n",
       "      <td>0.012619</td>\n",
       "      <td>0.063096</td>\n",
       "      <td>0.0</td>\n",
       "      <td>0.0</td>\n",
       "      <td>7132</td>\n",
       "      <td>182</td>\n",
       "      <td>15</td>\n",
       "      <td>3</td>\n",
       "      <td>22000000</td>\n",
       "      <td>22000000</td>\n",
       "      <td>2</td>\n",
       "      <td>1</td>\n",
       "    </tr>\n",
       "  </tbody>\n",
       "</table>\n",
       "</div>"
      ],
      "text/plain": [
       "                team            position  height  age  appearance     goals  \\\n",
       "0  Manchester United  Defender Left-Back     178   27          74  0.015374   \n",
       "1  Manchester United  Defender Left-Back     169   23          89  0.012619   \n",
       "\n",
       "    assists  red cards  clean sheets  minutes played  days_injured  \\\n",
       "0  0.169115        0.0           0.0            5854           443   \n",
       "1  0.063096        0.0           0.0            7132           182   \n",
       "\n",
       "   games_injured  award  current_value  highest_value  position_encoded  \\\n",
       "0             70      4       35000000       42000000                 2   \n",
       "1             15      3       22000000       22000000                 2   \n",
       "\n",
       "   winger  \n",
       "0       1  \n",
       "1       1  "
      ]
     },
     "execution_count": 122,
     "metadata": {},
     "output_type": "execute_result"
    }
   ],
   "source": [
    "df.head(2)"
   ]
  },
  {
   "cell_type": "markdown",
   "metadata": {},
   "source": [
    "## Preprocess the Data"
   ]
  },
  {
   "cell_type": "markdown",
   "metadata": {},
   "source": [
    "#### 1. Simple EDA + Data Quality checking"
   ]
  },
  {
   "cell_type": "code",
   "execution_count": 123,
   "metadata": {},
   "outputs": [
    {
     "data": {
      "text/html": [
       "<div>\n",
       "<style scoped>\n",
       "    .dataframe tbody tr th:only-of-type {\n",
       "        vertical-align: middle;\n",
       "    }\n",
       "\n",
       "    .dataframe tbody tr th {\n",
       "        vertical-align: top;\n",
       "    }\n",
       "\n",
       "    .dataframe thead th {\n",
       "        text-align: right;\n",
       "    }\n",
       "</style>\n",
       "<table border=\"1\" class=\"dataframe\">\n",
       "  <thead>\n",
       "    <tr style=\"text-align: right;\">\n",
       "      <th></th>\n",
       "      <th>team</th>\n",
       "      <th>position</th>\n",
       "      <th>height</th>\n",
       "      <th>age</th>\n",
       "      <th>appearance</th>\n",
       "      <th>goals</th>\n",
       "      <th>assists</th>\n",
       "      <th>red cards</th>\n",
       "      <th>clean sheets</th>\n",
       "      <th>minutes played</th>\n",
       "      <th>days_injured</th>\n",
       "      <th>games_injured</th>\n",
       "      <th>award</th>\n",
       "      <th>current_value</th>\n",
       "      <th>highest_value</th>\n",
       "      <th>position_encoded</th>\n",
       "      <th>winger</th>\n",
       "    </tr>\n",
       "  </thead>\n",
       "  <tbody>\n",
       "  </tbody>\n",
       "</table>\n",
       "</div>"
      ],
      "text/plain": [
       "Empty DataFrame\n",
       "Columns: [team, position, height, age, appearance, goals, assists, red cards, clean sheets, minutes played, days_injured, games_injured, award, current_value, highest_value, position_encoded, winger]\n",
       "Index: []"
      ]
     },
     "execution_count": 123,
     "metadata": {},
     "output_type": "execute_result"
    }
   ],
   "source": [
    "# uniqeness\n",
    "df.drop_duplicates(inplace=True)\n",
    "df[df.duplicated()]"
   ]
  },
  {
   "cell_type": "code",
   "execution_count": 124,
   "metadata": {},
   "outputs": [
    {
     "data": {
      "text/plain": [
       "team                0\n",
       "position            0\n",
       "height              0\n",
       "age                 0\n",
       "appearance          0\n",
       "goals               0\n",
       "assists             0\n",
       "red cards           0\n",
       "clean sheets        0\n",
       "minutes played      0\n",
       "days_injured        0\n",
       "games_injured       0\n",
       "award               0\n",
       "current_value       0\n",
       "highest_value       0\n",
       "position_encoded    0\n",
       "winger              0\n",
       "dtype: int64"
      ]
     },
     "execution_count": 124,
     "metadata": {},
     "output_type": "execute_result"
    }
   ],
   "source": [
    "# Completeness\n",
    "df.isnull().sum()"
   ]
  },
  {
   "cell_type": "code",
   "execution_count": 125,
   "metadata": {},
   "outputs": [
    {
     "data": {
      "text/plain": [
       "team                 object\n",
       "position             object\n",
       "height                int64\n",
       "age                   int64\n",
       "appearance            int64\n",
       "goals               float64\n",
       "assists             float64\n",
       "red cards           float64\n",
       "clean sheets        float64\n",
       "minutes played        int64\n",
       "days_injured          int64\n",
       "games_injured         int64\n",
       "award                 int64\n",
       "current_value         int64\n",
       "highest_value         int64\n",
       "position_encoded      int64\n",
       "winger                int64\n",
       "dtype: object"
      ]
     },
     "execution_count": 125,
     "metadata": {},
     "output_type": "execute_result"
    }
   ],
   "source": [
    "# Accurecy types\n",
    "df.dtypes"
   ]
  },
  {
   "cell_type": "code",
   "execution_count": 126,
   "metadata": {},
   "outputs": [],
   "source": [
    "categorical_features = [ 'team','position']\n",
    "numeric_features = ['height', 'age', 'appearance','goals', 'assists', 'yellow cards','second yellow cards', 'red cards', 'goals conceded','clean sheets', 'minutes played','days_injured','games_injured','award','current_value','highest_value','position_encoded','winger']"
   ]
  },
  {
   "cell_type": "code",
   "execution_count": 127,
   "metadata": {},
   "outputs": [
    {
     "name": "stdout",
     "output_type": "stream",
     "text": [
      "team\n",
      "Royal AM FC               30\n",
      "Al-Batin FC               28\n",
      "Gangwon FC                28\n",
      "Daejeon Hana Citizen      28\n",
      "Jeonbuk Hyundai Motors    28\n",
      "                          ..\n",
      "Swansea City              12\n",
      "Manchester City           11\n",
      "Paris Saint-Germain       11\n",
      "Gaziantep FK               5\n",
      "Hatayspor                  5\n",
      "Name: count, Length: 374, dtype: int64\n",
      "position\n",
      "Attack Centre-Forward         1294\n",
      "midfield-CentralMidfield      1106\n",
      "midfield-DefensiveMidfield     867\n",
      "Defender Left-Back             774\n",
      "midfield-AttackingMidfield     745\n",
      "Attack-RightWinger             695\n",
      "Attack-LeftWinger              694\n",
      "midfield-RightMidfield          97\n",
      "midfield-LeftMidfield           97\n",
      "Attack-SecondStriker            62\n",
      "midfield                        58\n",
      "Attack                          40\n",
      "Name: count, dtype: int64\n"
     ]
    }
   ],
   "source": [
    "for i in categorical_features:\n",
    "    print (df[i].value_counts())"
   ]
  },
  {
   "cell_type": "markdown",
   "metadata": {},
   "source": [
    "#### 2. Feature engineering"
   ]
  },
  {
   "cell_type": "markdown",
   "metadata": {},
   "source": [
    "1. Feature scaling\n",
    "2. Aggregation\n",
    "3. One hot coding"
   ]
  },
  {
   "cell_type": "code",
   "execution_count": 128,
   "metadata": {},
   "outputs": [
    {
     "data": {
      "text/html": [
       "<div>\n",
       "<style scoped>\n",
       "    .dataframe tbody tr th:only-of-type {\n",
       "        vertical-align: middle;\n",
       "    }\n",
       "\n",
       "    .dataframe tbody tr th {\n",
       "        vertical-align: top;\n",
       "    }\n",
       "\n",
       "    .dataframe thead th {\n",
       "        text-align: right;\n",
       "    }\n",
       "</style>\n",
       "<table border=\"1\" class=\"dataframe\">\n",
       "  <thead>\n",
       "    <tr style=\"text-align: right;\">\n",
       "      <th></th>\n",
       "      <th>team</th>\n",
       "      <th>position</th>\n",
       "      <th>height</th>\n",
       "      <th>age</th>\n",
       "      <th>appearance</th>\n",
       "      <th>goals</th>\n",
       "      <th>assists</th>\n",
       "      <th>red cards</th>\n",
       "      <th>clean sheets</th>\n",
       "      <th>minutes played</th>\n",
       "      <th>days_injured</th>\n",
       "      <th>games_injured</th>\n",
       "      <th>award</th>\n",
       "      <th>current_value</th>\n",
       "      <th>highest_value</th>\n",
       "      <th>position_encoded</th>\n",
       "      <th>winger</th>\n",
       "    </tr>\n",
       "  </thead>\n",
       "  <tbody>\n",
       "    <tr>\n",
       "      <th>0</th>\n",
       "      <td>Manchester United</td>\n",
       "      <td>Defender Left-Back</td>\n",
       "      <td>178</td>\n",
       "      <td>27</td>\n",
       "      <td>74</td>\n",
       "      <td>0.015374</td>\n",
       "      <td>0.169115</td>\n",
       "      <td>0.0</td>\n",
       "      <td>0.0</td>\n",
       "      <td>5854</td>\n",
       "      <td>443</td>\n",
       "      <td>70</td>\n",
       "      <td>4</td>\n",
       "      <td>35000000</td>\n",
       "      <td>42000000</td>\n",
       "      <td>2</td>\n",
       "      <td>1</td>\n",
       "    </tr>\n",
       "    <tr>\n",
       "      <th>1</th>\n",
       "      <td>Manchester United</td>\n",
       "      <td>Defender Left-Back</td>\n",
       "      <td>169</td>\n",
       "      <td>23</td>\n",
       "      <td>89</td>\n",
       "      <td>0.012619</td>\n",
       "      <td>0.063096</td>\n",
       "      <td>0.0</td>\n",
       "      <td>0.0</td>\n",
       "      <td>7132</td>\n",
       "      <td>182</td>\n",
       "      <td>15</td>\n",
       "      <td>3</td>\n",
       "      <td>22000000</td>\n",
       "      <td>22000000</td>\n",
       "      <td>2</td>\n",
       "      <td>1</td>\n",
       "    </tr>\n",
       "  </tbody>\n",
       "</table>\n",
       "</div>"
      ],
      "text/plain": [
       "                team            position  height  age  appearance     goals  \\\n",
       "0  Manchester United  Defender Left-Back     178   27          74  0.015374   \n",
       "1  Manchester United  Defender Left-Back     169   23          89  0.012619   \n",
       "\n",
       "    assists  red cards  clean sheets  minutes played  days_injured  \\\n",
       "0  0.169115        0.0           0.0            5854           443   \n",
       "1  0.063096        0.0           0.0            7132           182   \n",
       "\n",
       "   games_injured  award  current_value  highest_value  position_encoded  \\\n",
       "0             70      4       35000000       42000000                 2   \n",
       "1             15      3       22000000       22000000                 2   \n",
       "\n",
       "   winger  \n",
       "0       1  \n",
       "1       1  "
      ]
     },
     "execution_count": 128,
     "metadata": {},
     "output_type": "execute_result"
    }
   ],
   "source": [
    "df.head(2)"
   ]
  },
  {
   "cell_type": "code",
   "execution_count": 129,
   "metadata": {},
   "outputs": [
    {
     "data": {
      "text/plain": [
       "['team', 'position']"
      ]
     },
     "execution_count": 129,
     "metadata": {},
     "output_type": "execute_result"
    }
   ],
   "source": [
    "categorical_features"
   ]
  },
  {
   "cell_type": "code",
   "execution_count": 130,
   "metadata": {},
   "outputs": [],
   "source": [
    "# one hot coding\n",
    "df = pd.get_dummies(df, columns=categorical_features,drop_first=1)"
   ]
  },
  {
   "cell_type": "code",
   "execution_count": 131,
   "metadata": {},
   "outputs": [
    {
     "data": {
      "text/plain": [
       "(6529, 399)"
      ]
     },
     "execution_count": 131,
     "metadata": {},
     "output_type": "execute_result"
    }
   ],
   "source": [
    "df.shape"
   ]
  },
  {
   "cell_type": "code",
   "execution_count": 132,
   "metadata": {},
   "outputs": [
    {
     "data": {
      "text/html": [
       "<div>\n",
       "<style scoped>\n",
       "    .dataframe tbody tr th:only-of-type {\n",
       "        vertical-align: middle;\n",
       "    }\n",
       "\n",
       "    .dataframe tbody tr th {\n",
       "        vertical-align: top;\n",
       "    }\n",
       "\n",
       "    .dataframe thead th {\n",
       "        text-align: right;\n",
       "    }\n",
       "</style>\n",
       "<table border=\"1\" class=\"dataframe\">\n",
       "  <thead>\n",
       "    <tr style=\"text-align: right;\">\n",
       "      <th></th>\n",
       "      <th>height</th>\n",
       "      <th>age</th>\n",
       "      <th>appearance</th>\n",
       "      <th>goals</th>\n",
       "      <th>assists</th>\n",
       "      <th>red cards</th>\n",
       "      <th>clean sheets</th>\n",
       "      <th>minutes played</th>\n",
       "      <th>days_injured</th>\n",
       "      <th>games_injured</th>\n",
       "      <th>...</th>\n",
       "      <th>position_Attack-LeftWinger</th>\n",
       "      <th>position_Attack-RightWinger</th>\n",
       "      <th>position_Attack-SecondStriker</th>\n",
       "      <th>position_Defender Left-Back</th>\n",
       "      <th>position_midfield</th>\n",
       "      <th>position_midfield-AttackingMidfield</th>\n",
       "      <th>position_midfield-CentralMidfield</th>\n",
       "      <th>position_midfield-DefensiveMidfield</th>\n",
       "      <th>position_midfield-LeftMidfield</th>\n",
       "      <th>position_midfield-RightMidfield</th>\n",
       "    </tr>\n",
       "  </thead>\n",
       "  <tbody>\n",
       "    <tr>\n",
       "      <th>0</th>\n",
       "      <td>178</td>\n",
       "      <td>27</td>\n",
       "      <td>74</td>\n",
       "      <td>0.015374</td>\n",
       "      <td>0.169115</td>\n",
       "      <td>0.0</td>\n",
       "      <td>0.0</td>\n",
       "      <td>5854</td>\n",
       "      <td>443</td>\n",
       "      <td>70</td>\n",
       "      <td>...</td>\n",
       "      <td>False</td>\n",
       "      <td>False</td>\n",
       "      <td>False</td>\n",
       "      <td>True</td>\n",
       "      <td>False</td>\n",
       "      <td>False</td>\n",
       "      <td>False</td>\n",
       "      <td>False</td>\n",
       "      <td>False</td>\n",
       "      <td>False</td>\n",
       "    </tr>\n",
       "    <tr>\n",
       "      <th>1</th>\n",
       "      <td>169</td>\n",
       "      <td>23</td>\n",
       "      <td>89</td>\n",
       "      <td>0.012619</td>\n",
       "      <td>0.063096</td>\n",
       "      <td>0.0</td>\n",
       "      <td>0.0</td>\n",
       "      <td>7132</td>\n",
       "      <td>182</td>\n",
       "      <td>15</td>\n",
       "      <td>...</td>\n",
       "      <td>False</td>\n",
       "      <td>False</td>\n",
       "      <td>False</td>\n",
       "      <td>True</td>\n",
       "      <td>False</td>\n",
       "      <td>False</td>\n",
       "      <td>False</td>\n",
       "      <td>False</td>\n",
       "      <td>False</td>\n",
       "      <td>False</td>\n",
       "    </tr>\n",
       "  </tbody>\n",
       "</table>\n",
       "<p>2 rows × 399 columns</p>\n",
       "</div>"
      ],
      "text/plain": [
       "   height  age  appearance     goals   assists  red cards  clean sheets  \\\n",
       "0     178   27          74  0.015374  0.169115        0.0           0.0   \n",
       "1     169   23          89  0.012619  0.063096        0.0           0.0   \n",
       "\n",
       "   minutes played  days_injured  games_injured  ...  \\\n",
       "0            5854           443             70  ...   \n",
       "1            7132           182             15  ...   \n",
       "\n",
       "   position_Attack-LeftWinger  position_Attack-RightWinger  \\\n",
       "0                       False                        False   \n",
       "1                       False                        False   \n",
       "\n",
       "   position_Attack-SecondStriker  position_Defender Left-Back  \\\n",
       "0                          False                         True   \n",
       "1                          False                         True   \n",
       "\n",
       "   position_midfield  position_midfield-AttackingMidfield  \\\n",
       "0              False                                False   \n",
       "1              False                                False   \n",
       "\n",
       "   position_midfield-CentralMidfield  position_midfield-DefensiveMidfield  \\\n",
       "0                              False                                False   \n",
       "1                              False                                False   \n",
       "\n",
       "   position_midfield-LeftMidfield  position_midfield-RightMidfield  \n",
       "0                           False                            False  \n",
       "1                           False                            False  \n",
       "\n",
       "[2 rows x 399 columns]"
      ]
     },
     "execution_count": 132,
     "metadata": {},
     "output_type": "execute_result"
    }
   ],
   "source": [
    "df.head(2)"
   ]
  },
  {
   "cell_type": "code",
   "execution_count": 133,
   "metadata": {},
   "outputs": [],
   "source": [
    "encoder = LabelEncoder()\n",
    "df['current_value'] = encoder.fit_transform(df['current_value'])  "
   ]
  },
  {
   "cell_type": "markdown",
   "metadata": {},
   "source": [
    "#### 3. Feature selection"
   ]
  },
  {
   "cell_type": "code",
   "execution_count": 134,
   "metadata": {},
   "outputs": [],
   "source": [
    "# sns.heatmap(df.corr(), annot=True);"
   ]
  },
  {
   "cell_type": "code",
   "execution_count": 135,
   "metadata": {},
   "outputs": [
    {
     "name": "stdout",
     "output_type": "stream",
     "text": [
      "current_value        1.000000\n",
      "highest_value        0.667798\n",
      "appearance           0.569619\n",
      "minutes played       0.560673\n",
      "award                0.307235\n",
      "                       ...   \n",
      "team_Al-Batin FC    -0.072296\n",
      "team_Swallows FC    -0.074581\n",
      "team_Royal AM FC    -0.078198\n",
      "position_midfield   -0.121034\n",
      "clean sheets              NaN\n",
      "Name: current_value, Length: 399, dtype: float64\n"
     ]
    }
   ],
   "source": [
    "correlation = df.corr(numeric_only=True)\n",
    "#print(correlation['Price'].sort_values(ascending=False))\n",
    "print(correlation['current_value'].sort_values(ascending=False))"
   ]
  },
  {
   "cell_type": "code",
   "execution_count": null,
   "metadata": {},
   "outputs": [],
   "source": []
  },
  {
   "cell_type": "code",
   "execution_count": 136,
   "metadata": {},
   "outputs": [
    {
     "data": {
      "text/plain": [
       "Index(['current_value'], dtype='object')"
      ]
     },
     "execution_count": 136,
     "metadata": {},
     "output_type": "execute_result"
    }
   ],
   "source": [
    "# Set the correlation threshold\n",
    "threshold = 0.7  # You can change this value based on your requirement\n",
    "\n",
    "# Filter the correlations\n",
    "# We use `abs()` for absolute value to consider both strong positive and negative correlations\n",
    "selected_features = correlation[abs(correlation['current_value']) > threshold]['current_value'].index\n",
    "selected_features"
   ]
  },
  {
   "cell_type": "code",
   "execution_count": 137,
   "metadata": {},
   "outputs": [
    {
     "data": {
      "text/html": [
       "<div>\n",
       "<style scoped>\n",
       "    .dataframe tbody tr th:only-of-type {\n",
       "        vertical-align: middle;\n",
       "    }\n",
       "\n",
       "    .dataframe tbody tr th {\n",
       "        vertical-align: top;\n",
       "    }\n",
       "\n",
       "    .dataframe thead th {\n",
       "        text-align: right;\n",
       "    }\n",
       "</style>\n",
       "<table border=\"1\" class=\"dataframe\">\n",
       "  <thead>\n",
       "    <tr style=\"text-align: right;\">\n",
       "      <th></th>\n",
       "      <th>current_value</th>\n",
       "    </tr>\n",
       "  </thead>\n",
       "  <tbody>\n",
       "    <tr>\n",
       "      <th>0</th>\n",
       "      <td>103</td>\n",
       "    </tr>\n",
       "    <tr>\n",
       "      <th>1</th>\n",
       "      <td>94</td>\n",
       "    </tr>\n",
       "    <tr>\n",
       "      <th>2</th>\n",
       "      <td>82</td>\n",
       "    </tr>\n",
       "    <tr>\n",
       "      <th>3</th>\n",
       "      <td>109</td>\n",
       "    </tr>\n",
       "    <tr>\n",
       "      <th>4</th>\n",
       "      <td>97</td>\n",
       "    </tr>\n",
       "  </tbody>\n",
       "</table>\n",
       "</div>"
      ],
      "text/plain": [
       "   current_value\n",
       "0            103\n",
       "1             94\n",
       "2             82\n",
       "3            109\n",
       "4             97"
      ]
     },
     "execution_count": 137,
     "metadata": {},
     "output_type": "execute_result"
    }
   ],
   "source": [
    "df = df[selected_features]\n",
    "df.head()"
   ]
  },
  {
   "cell_type": "markdown",
   "metadata": {},
   "source": [
    "#### 4. Prepare train and test data"
   ]
  },
  {
   "cell_type": "code",
   "execution_count": 139,
   "metadata": {},
   "outputs": [],
   "source": [
    "# Prepare data\n",
    "X = df.drop(['current_value'], axis=1)\n",
    "y = df['current_value']\n",
    "\n",
    "# Split data into training and testing sets\n",
    "X_train, X_test, y_train, y_test = train_test_split(X, y,\n",
    "                                                    test_size=0.2,\n",
    "                                                    shuffle=True,\n",
    "                                                    random_state=42)\n",
    "\n",
    "# sacle the data\n",
    "scaler = StandardScaler()\n",
    "scaler.fit(X_train)\n",
    "X_train_scaled = scaler.transform(X_train)\n",
    "X_test_scaled = scaler.transform(X_test)"
   ]
  },
  {
   "cell_type": "code",
   "execution_count": null,
   "metadata": {},
   "outputs": [
    {
     "data": {
      "text/plain": [
       "(6529, 7)"
      ]
     },
     "execution_count": 52,
     "metadata": {},
     "output_type": "execute_result"
    }
   ],
   "source": [
    "X.shape"
   ]
  },
  {
   "cell_type": "markdown",
   "metadata": {},
   "source": [
    "## Buliding the Model"
   ]
  },
  {
   "cell_type": "code",
   "execution_count": null,
   "metadata": {},
   "outputs": [],
   "source": [
    "model = LogisticRegression()"
   ]
  },
  {
   "cell_type": "markdown",
   "metadata": {},
   "source": [
    "## Train the Model"
   ]
  },
  {
   "cell_type": "code",
   "execution_count": null,
   "metadata": {},
   "outputs": [
    {
     "data": {
      "text/html": [
       "<style>#sk-container-id-1 {color: black;background-color: white;}#sk-container-id-1 pre{padding: 0;}#sk-container-id-1 div.sk-toggleable {background-color: white;}#sk-container-id-1 label.sk-toggleable__label {cursor: pointer;display: block;width: 100%;margin-bottom: 0;padding: 0.3em;box-sizing: border-box;text-align: center;}#sk-container-id-1 label.sk-toggleable__label-arrow:before {content: \"▸\";float: left;margin-right: 0.25em;color: #696969;}#sk-container-id-1 label.sk-toggleable__label-arrow:hover:before {color: black;}#sk-container-id-1 div.sk-estimator:hover label.sk-toggleable__label-arrow:before {color: black;}#sk-container-id-1 div.sk-toggleable__content {max-height: 0;max-width: 0;overflow: hidden;text-align: left;background-color: #f0f8ff;}#sk-container-id-1 div.sk-toggleable__content pre {margin: 0.2em;color: black;border-radius: 0.25em;background-color: #f0f8ff;}#sk-container-id-1 input.sk-toggleable__control:checked~div.sk-toggleable__content {max-height: 200px;max-width: 100%;overflow: auto;}#sk-container-id-1 input.sk-toggleable__control:checked~label.sk-toggleable__label-arrow:before {content: \"▾\";}#sk-container-id-1 div.sk-estimator input.sk-toggleable__control:checked~label.sk-toggleable__label {background-color: #d4ebff;}#sk-container-id-1 div.sk-label input.sk-toggleable__control:checked~label.sk-toggleable__label {background-color: #d4ebff;}#sk-container-id-1 input.sk-hidden--visually {border: 0;clip: rect(1px 1px 1px 1px);clip: rect(1px, 1px, 1px, 1px);height: 1px;margin: -1px;overflow: hidden;padding: 0;position: absolute;width: 1px;}#sk-container-id-1 div.sk-estimator {font-family: monospace;background-color: #f0f8ff;border: 1px dotted black;border-radius: 0.25em;box-sizing: border-box;margin-bottom: 0.5em;}#sk-container-id-1 div.sk-estimator:hover {background-color: #d4ebff;}#sk-container-id-1 div.sk-parallel-item::after {content: \"\";width: 100%;border-bottom: 1px solid gray;flex-grow: 1;}#sk-container-id-1 div.sk-label:hover label.sk-toggleable__label {background-color: #d4ebff;}#sk-container-id-1 div.sk-serial::before {content: \"\";position: absolute;border-left: 1px solid gray;box-sizing: border-box;top: 0;bottom: 0;left: 50%;z-index: 0;}#sk-container-id-1 div.sk-serial {display: flex;flex-direction: column;align-items: center;background-color: white;padding-right: 0.2em;padding-left: 0.2em;position: relative;}#sk-container-id-1 div.sk-item {position: relative;z-index: 1;}#sk-container-id-1 div.sk-parallel {display: flex;align-items: stretch;justify-content: center;background-color: white;position: relative;}#sk-container-id-1 div.sk-item::before, #sk-container-id-1 div.sk-parallel-item::before {content: \"\";position: absolute;border-left: 1px solid gray;box-sizing: border-box;top: 0;bottom: 0;left: 50%;z-index: -1;}#sk-container-id-1 div.sk-parallel-item {display: flex;flex-direction: column;z-index: 1;position: relative;background-color: white;}#sk-container-id-1 div.sk-parallel-item:first-child::after {align-self: flex-end;width: 50%;}#sk-container-id-1 div.sk-parallel-item:last-child::after {align-self: flex-start;width: 50%;}#sk-container-id-1 div.sk-parallel-item:only-child::after {width: 0;}#sk-container-id-1 div.sk-dashed-wrapped {border: 1px dashed gray;margin: 0 0.4em 0.5em 0.4em;box-sizing: border-box;padding-bottom: 0.4em;background-color: white;}#sk-container-id-1 div.sk-label label {font-family: monospace;font-weight: bold;display: inline-block;line-height: 1.2em;}#sk-container-id-1 div.sk-label-container {text-align: center;}#sk-container-id-1 div.sk-container {/* jupyter's `normalize.less` sets `[hidden] { display: none; }` but bootstrap.min.css set `[hidden] { display: none !important; }` so we also need the `!important` here to be able to override the default hidden behavior on the sphinx rendered scikit-learn.org. See: https://github.com/scikit-learn/scikit-learn/issues/21755 */display: inline-block !important;position: relative;}#sk-container-id-1 div.sk-text-repr-fallback {display: none;}</style><div id=\"sk-container-id-1\" class=\"sk-top-container\"><div class=\"sk-text-repr-fallback\"><pre>LogisticRegression()</pre><b>In a Jupyter environment, please rerun this cell to show the HTML representation or trust the notebook. <br />On GitHub, the HTML representation is unable to render, please try loading this page with nbviewer.org.</b></div><div class=\"sk-container\" hidden><div class=\"sk-item\"><div class=\"sk-estimator sk-toggleable\"><input class=\"sk-toggleable__control sk-hidden--visually\" id=\"sk-estimator-id-1\" type=\"checkbox\" checked><label for=\"sk-estimator-id-1\" class=\"sk-toggleable__label sk-toggleable__label-arrow\">LogisticRegression</label><div class=\"sk-toggleable__content\"><pre>LogisticRegression()</pre></div></div></div></div></div>"
      ],
      "text/plain": [
       "LogisticRegression()"
      ]
     },
     "execution_count": 54,
     "metadata": {},
     "output_type": "execute_result"
    }
   ],
   "source": [
    "# Fit the model on the training data\n",
    "model.fit(X_train_scaled, y_train)"
   ]
  },
  {
   "cell_type": "markdown",
   "metadata": {},
   "source": [
    "## Test the Model"
   ]
  },
  {
   "cell_type": "code",
   "execution_count": null,
   "metadata": {},
   "outputs": [],
   "source": [
    "# Predict and evaluate the model\n",
    "y_pred = model.predict(X_test_scaled)"
   ]
  },
  {
   "cell_type": "markdown",
   "metadata": {},
   "source": [
    "## Interpretation of the Model"
   ]
  },
  {
   "cell_type": "code",
   "execution_count": null,
   "metadata": {},
   "outputs": [
    {
     "data": {
      "text/html": [
       "<div>\n",
       "<style scoped>\n",
       "    .dataframe tbody tr th:only-of-type {\n",
       "        vertical-align: middle;\n",
       "    }\n",
       "\n",
       "    .dataframe tbody tr th {\n",
       "        vertical-align: top;\n",
       "    }\n",
       "\n",
       "    .dataframe thead th {\n",
       "        text-align: right;\n",
       "    }\n",
       "</style>\n",
       "<table border=\"1\" class=\"dataframe\">\n",
       "  <thead>\n",
       "    <tr style=\"text-align: right;\">\n",
       "      <th></th>\n",
       "      <th>Coefficient</th>\n",
       "    </tr>\n",
       "  </thead>\n",
       "  <tbody>\n",
       "    <tr>\n",
       "      <th>appearance</th>\n",
       "      <td>-0.221409</td>\n",
       "    </tr>\n",
       "    <tr>\n",
       "      <th>assists</th>\n",
       "      <td>-0.090063</td>\n",
       "    </tr>\n",
       "    <tr>\n",
       "      <th>minutes played</th>\n",
       "      <td>-1.652198</td>\n",
       "    </tr>\n",
       "    <tr>\n",
       "      <th>days_injured</th>\n",
       "      <td>-0.124788</td>\n",
       "    </tr>\n",
       "    <tr>\n",
       "      <th>games_injured</th>\n",
       "      <td>-0.037495</td>\n",
       "    </tr>\n",
       "    <tr>\n",
       "      <th>award</th>\n",
       "      <td>-0.844317</td>\n",
       "    </tr>\n",
       "    <tr>\n",
       "      <th>highest_value</th>\n",
       "      <td>-4.318953</td>\n",
       "    </tr>\n",
       "  </tbody>\n",
       "</table>\n",
       "</div>"
      ],
      "text/plain": [
       "                Coefficient\n",
       "appearance        -0.221409\n",
       "assists           -0.090063\n",
       "minutes played    -1.652198\n",
       "days_injured      -0.124788\n",
       "games_injured     -0.037495\n",
       "award             -0.844317\n",
       "highest_value     -4.318953"
      ]
     },
     "execution_count": 56,
     "metadata": {},
     "output_type": "execute_result"
    }
   ],
   "source": [
    "# Each row of the model.coef_ matrix tells you how each feature affects being in the corresponding class versus any other class\n",
    "coeff_df = pd.DataFrame(model.coef_[2],X.columns,columns=['Coefficient'])\n",
    "coeff_df"
   ]
  },
  {
   "cell_type": "code",
   "execution_count": null,
   "metadata": {},
   "outputs": [
    {
     "data": {
      "text/plain": [
       "array([[-2.59687732e+00, -4.72402455e-01, -1.71388793e-01,\n",
       "        -2.44433010e-01, -8.83839780e-01, -1.21708999e+00,\n",
       "        -5.00070726e+00],\n",
       "       [-2.36320112e+00, -1.92951699e-01,  7.12864114e-03,\n",
       "         2.77360314e-01, -1.22062628e+00, -1.04989615e+00,\n",
       "        -6.36851158e+00],\n",
       "       [-2.21408535e-01, -9.00630563e-02, -1.65219801e+00,\n",
       "        -1.24787964e-01, -3.74948733e-02, -8.44317474e-01,\n",
       "        -4.31895342e+00],\n",
       "       [-7.66094382e-01, -1.50973111e-01, -6.34515774e-01,\n",
       "         3.07711287e-01, -6.20122141e-01, -1.46490642e-01,\n",
       "        -5.72061997e+00],\n",
       "       [-3.66139841e-01, -8.42996468e-02, -1.39146938e+00,\n",
       "         3.29636611e-02, -3.90598768e-01, -1.25253041e-01,\n",
       "        -2.99542283e+00],\n",
       "       [-2.35035832e-01, -4.37107113e-02, -1.30013302e+00,\n",
       "        -1.55157657e-01, -3.33843300e-02,  1.44229554e-01,\n",
       "        -3.69682791e+00],\n",
       "       [-2.71048189e-01, -2.40940904e-01, -1.26503461e+00,\n",
       "         3.92316417e-01, -5.75203379e-01,  5.03243841e-01,\n",
       "        -2.30850703e+00],\n",
       "       [-1.39348044e-01, -1.28245611e-01, -1.05817172e+00,\n",
       "        -1.31797962e-03, -3.98769332e-02,  4.55983479e-01,\n",
       "        -4.55746796e+00],\n",
       "       [-8.41671562e-01, -1.18241717e-03, -8.69822381e-01,\n",
       "        -1.80968972e-01, -5.70642056e-02, -6.89390426e-01,\n",
       "        -1.63390269e+00],\n",
       "       [-3.99712002e-02,  9.79278913e-03, -9.03787877e-01,\n",
       "         2.02237359e-01, -1.97189720e-01,  1.88289953e-01,\n",
       "        -4.25527057e+00],\n",
       "       [-9.66812699e-01, -4.14953134e-02, -5.13872489e-01,\n",
       "         1.72878708e-01,  4.23447251e-02, -1.05636175e-01,\n",
       "        -1.96162156e+00],\n",
       "       [ 2.07099908e-01, -1.47844633e-01, -9.28541983e-01,\n",
       "         4.13624604e-01, -2.02004669e-01,  3.26172278e-01,\n",
       "        -3.97976633e+00],\n",
       "       [-8.30386119e-01, -1.01114817e+00, -3.68682732e-01,\n",
       "        -2.48494935e-01, -1.57012821e-01,  2.98369333e-01,\n",
       "        -2.03942415e+00],\n",
       "       [ 2.41017782e-03, -1.11134644e-01, -1.03169698e+00,\n",
       "         1.13297882e-01,  1.94786212e-02,  5.64196643e-01,\n",
       "        -3.89169283e+00],\n",
       "       [-4.58257111e-01, -2.40533322e-01, -6.42057024e-01,\n",
       "         4.59535426e-02,  9.12608590e-02,  4.18630057e-01,\n",
       "        -1.39038083e+00],\n",
       "       [-5.09534065e-02, -7.63646135e-03, -7.91449046e-01,\n",
       "         2.68053851e-01, -1.97104862e-01,  6.00800971e-01,\n",
       "        -3.90151744e+00],\n",
       "       [-1.37929284e-01, -7.33654829e-02, -6.90631870e-01,\n",
       "        -2.26756681e-01,  2.26554284e-01, -7.03648197e-01,\n",
       "        -1.49405113e+00],\n",
       "       [-3.95603043e-01, -9.55335915e-02, -3.19617601e-01,\n",
       "         2.66953651e-01, -1.05919703e-01,  2.75469973e-01,\n",
       "        -4.20335766e+00],\n",
       "       [-3.72399986e-01, -2.64388727e-01, -4.06819130e-01,\n",
       "        -6.35525160e-02,  2.86950734e-01,  5.99075915e-01,\n",
       "        -1.10722960e+00],\n",
       "       [-2.35405683e-01, -8.97345091e-03, -4.41213653e-01,\n",
       "         2.90891225e-01, -6.12924438e-02,  3.89934879e-01,\n",
       "        -3.68404897e+00],\n",
       "       [-6.54176252e-01, -4.21298950e-01, -3.33642766e-01,\n",
       "         2.91484447e-02, -2.15673291e-02, -6.20040544e-01,\n",
       "        -4.00808668e-01],\n",
       "       [-2.00426345e-01, -4.39746097e-02, -1.97960651e-01,\n",
       "        -2.92049723e-01,  5.57830710e-01,  3.18293535e-01,\n",
       "        -2.99139741e+00],\n",
       "       [-8.17336828e-01, -7.33424221e-02, -6.02916491e-01,\n",
       "         2.96679339e-01,  2.77949194e-01, -2.30012916e-01,\n",
       "        -5.86743141e-01],\n",
       "       [ 1.75084172e-01,  3.39802760e-02, -7.30717511e-01,\n",
       "        -1.31681042e-01,  2.99733921e-01,  3.54744930e-01,\n",
       "        -3.02484869e+00],\n",
       "       [-5.30800657e-01, -4.93270224e-01, -5.42047609e-01,\n",
       "         3.35178868e-01,  1.36046613e-01, -1.18463706e-01,\n",
       "        -2.51708850e-01],\n",
       "       [-8.43342728e-01, -2.95715835e-02,  1.85607240e-01,\n",
       "         1.41304495e-01,  7.16100768e-02,  6.11804560e-01,\n",
       "        -2.71765410e+00],\n",
       "       [ 1.91810413e-01, -2.16791836e-01, -2.95900354e-01,\n",
       "         1.31147609e-01,  1.96439817e-01, -3.32455884e-01,\n",
       "        -2.29375559e-01],\n",
       "       [-1.53855454e-02, -1.77990276e-02, -4.69393251e-01,\n",
       "         2.61422569e-01, -1.06385676e-01,  2.88617631e-01,\n",
       "        -2.06936927e+00],\n",
       "       [-9.77703069e-01, -3.82512167e-01, -3.07113428e-01,\n",
       "         5.63645524e-01, -1.71785308e-02,  2.68727319e-01,\n",
       "        -5.89994972e-01],\n",
       "       [-1.22793847e+00, -8.77793999e-02,  5.95205747e-01,\n",
       "        -5.02875152e-02,  3.74583611e-01,  3.94160753e-01,\n",
       "        -2.67629948e+00],\n",
       "       [-1.72415251e-01,  3.19621228e-02, -3.74568806e-01,\n",
       "         3.30801960e-01, -1.01975387e-01,  5.00778791e-01,\n",
       "        -2.26922134e+00],\n",
       "       [-7.05906408e-01,  1.03510517e-01,  8.02142356e-02,\n",
       "        -1.49312630e-01,  3.29397030e-01,  4.01438144e-01,\n",
       "        -2.15511761e+00],\n",
       "       [-6.25560959e-01, -4.94322778e-01, -3.85892443e-01,\n",
       "        -1.03639036e-01,  3.17649075e-01,  2.87411393e-01,\n",
       "        -2.43811220e-01],\n",
       "       [-9.27953712e-02, -1.00540364e-01, -6.03958437e-02,\n",
       "        -6.30463993e-01,  8.30402262e-01,  2.58579638e-02,\n",
       "        -2.71153437e+00],\n",
       "       [-1.10545981e-01, -4.46203958e-01,  5.53871554e-03,\n",
       "        -1.48067175e-02,  1.98373239e-02, -4.34010437e-02,\n",
       "        -5.66810452e-01],\n",
       "       [-1.44905360e-01, -3.70086030e-02, -3.89782526e-01,\n",
       "         2.79853184e-01, -2.08157529e-01,  2.55520238e-01,\n",
       "        -1.28568836e+00],\n",
       "       [-5.38974796e-01,  2.53407460e-01,  2.38762796e-01,\n",
       "         2.96356069e-01,  2.21711499e-01,  1.32550872e-01,\n",
       "        -1.33050822e+00],\n",
       "       [-5.20795990e-02,  5.84339474e-02, -2.81623253e-01,\n",
       "         5.16911014e-01, -3.02805895e-01,  5.63336202e-01,\n",
       "        -1.12623595e+00],\n",
       "       [-3.88198180e-01, -8.53954765e-02, -1.72409050e-01,\n",
       "         3.13542187e-01, -1.84538937e-01,  6.11034139e-01,\n",
       "        -9.73902771e-01],\n",
       "       [-4.74677666e-01,  1.29016675e-01, -4.57722093e-01,\n",
       "        -1.20225009e-01,  9.76348380e-02,  3.45768750e-01,\n",
       "        -1.07671486e+00],\n",
       "       [-3.95200135e-01, -6.19919741e-02, -2.02934454e-01,\n",
       "         1.75215582e-01, -9.35850070e-02,  2.66015907e-01,\n",
       "        -6.73240855e-01],\n",
       "       [-4.55410789e-01,  1.34347880e-01,  1.90276717e-02,\n",
       "        -5.81377626e-02,  5.11576942e-01,  4.10998934e-01,\n",
       "        -2.22488644e-01],\n",
       "       [-9.43415068e-02, -1.37663478e-01, -6.51581894e-01,\n",
       "        -1.97794212e-01,  7.88405297e-02,  5.82446424e-01,\n",
       "        -9.66549160e-01],\n",
       "       [ 3.84090926e-01, -1.20477519e-01, -6.63053419e-01,\n",
       "         2.81400476e-01,  1.27894874e-02,  4.85735082e-01,\n",
       "        -7.90072227e-01],\n",
       "       [ 3.29345001e-01,  6.96813874e-02,  3.35158335e-01,\n",
       "        -5.80218454e-01, -3.50161481e-01,  5.84150808e-01,\n",
       "        -2.51848725e-01],\n",
       "       [-9.91320237e-02,  1.10412678e-01, -3.17300026e-01,\n",
       "         1.98955123e-01,  6.13452944e-02,  2.56519222e-01,\n",
       "        -1.30692341e-01],\n",
       "       [-2.06722283e-01, -1.43391103e-02,  2.89926292e-01,\n",
       "         1.29739219e-01,  4.50094942e-02,  3.88392853e-01,\n",
       "         4.53847100e-01],\n",
       "       [ 9.04029523e-02,  1.14492348e-01, -7.00716343e-02,\n",
       "        -7.64523505e-01,  6.67170875e-01,  6.43341333e-01,\n",
       "        -6.52019617e-01],\n",
       "       [-4.07586591e-02,  9.13839045e-03,  2.09922744e-01,\n",
       "        -2.38093377e-01,  5.40695926e-01, -7.24649748e-02,\n",
       "        -4.27344645e-01],\n",
       "       [ 3.01965396e-01, -1.27116887e-01, -1.33521155e-01,\n",
       "        -3.27863856e-01,  8.57128778e-01,  9.07942516e-02,\n",
       "        -5.39818363e-01],\n",
       "       [-3.61100426e-01,  1.09277573e-01, -6.70574798e-02,\n",
       "         2.12703268e-01, -5.80981769e-02,  2.60491923e-01,\n",
       "         1.17688902e-03],\n",
       "       [ 3.52572041e-01, -5.01151241e-01,  3.78111158e-01,\n",
       "        -2.09190883e-01, -5.74028847e-02, -3.31552046e-01,\n",
       "        -3.03486153e-01],\n",
       "       [ 7.26790142e-01,  3.22808766e-01, -6.53572485e-01,\n",
       "        -4.36249430e-01,  5.87422932e-01,  1.29407428e-01,\n",
       "        -2.37888425e-01],\n",
       "       [-2.32206414e-01,  1.06531211e-01,  2.28758211e-01,\n",
       "        -4.76494107e-01,  7.28020826e-01, -4.41555111e-01,\n",
       "         9.79962643e-02],\n",
       "       [ 2.62813942e-01, -3.20157937e-02, -5.92839720e-01,\n",
       "        -7.03463344e-02,  2.57222509e-01,  2.61943386e-01,\n",
       "         2.06341718e-01],\n",
       "       [ 6.97198916e-01, -3.30690426e-01,  4.34707649e-01,\n",
       "         1.62173959e-02,  4.68330751e-01,  2.86730436e-01,\n",
       "         1.56064912e-02],\n",
       "       [-5.30412809e-02, -3.45303393e-01, -3.37343335e-01,\n",
       "         2.52163584e-01,  1.14727234e+00,  5.32085577e-02,\n",
       "         1.85879563e-02],\n",
       "       [ 2.12485374e-01, -4.02659386e-01,  1.67243141e-01,\n",
       "        -1.04911425e-01, -7.09550298e-02,  6.55066567e-01,\n",
       "         2.06424851e-01],\n",
       "       [-4.23398578e-01,  1.04130606e-01,  9.91230725e-02,\n",
       "        -3.35951858e-02,  5.38537162e-02,  2.99474220e-01,\n",
       "         2.97976417e-01],\n",
       "       [ 7.73154711e-01,  4.15042473e-01,  2.67191012e-01,\n",
       "         4.77466988e-02,  3.98475606e-01,  5.30308461e-01,\n",
       "        -1.30827789e-01],\n",
       "       [ 1.09132461e-01,  3.06956274e-01,  3.56290255e-01,\n",
       "         1.81155909e-01,  3.06012871e-01,  3.89976198e-01,\n",
       "        -3.90005179e-01],\n",
       "       [ 3.19373398e-02,  8.78510810e-02, -3.83802215e-01,\n",
       "        -2.03626762e-02,  6.47253689e-02,  2.26757377e-01,\n",
       "         8.36004895e-01],\n",
       "       [ 7.27936647e-01,  4.64663133e-01,  1.28571693e-01,\n",
       "         8.79766534e-02, -5.34204404e-02,  6.12980001e-01,\n",
       "        -3.48616736e-01],\n",
       "       [ 3.74703061e-01, -2.93554117e-01,  2.57526018e-01,\n",
       "        -1.59477801e-01, -2.56525754e-02,  3.73494071e-01,\n",
       "         2.75899777e-01],\n",
       "       [ 7.76374381e-01, -2.16718651e-01,  5.74134690e-01,\n",
       "         1.03679343e-01,  2.12389645e-01,  2.33658535e-02,\n",
       "        -1.26084675e-01],\n",
       "       [ 1.85478028e-01,  1.50818570e-01, -3.58193207e-01,\n",
       "        -3.49073021e-01,  2.55635076e-01,  7.47219237e-02,\n",
       "         9.47850906e-01],\n",
       "       [ 5.35123474e-01,  9.13748398e-02, -2.34380837e-01,\n",
       "        -1.22060458e-01,  4.50586335e-01, -6.45386133e-02,\n",
       "         5.98792485e-01],\n",
       "       [-1.95180446e-01, -7.41897868e-01,  3.07663059e-01,\n",
       "        -4.73810259e-01, -4.85501678e-01, -4.71299179e-01,\n",
       "         1.41242767e-01],\n",
       "       [-1.14121415e-01,  3.59107682e-02, -2.68570773e-02,\n",
       "        -3.51520312e-01,  3.90207492e-01,  1.77992584e-01,\n",
       "         8.88230864e-01],\n",
       "       [-4.59165226e-01, -1.24753031e-01,  3.56508054e-01,\n",
       "         2.56680766e-01, -2.58033801e-01,  2.68311822e-01,\n",
       "         3.14800491e-01],\n",
       "       [ 7.29759921e-02, -8.21669515e-02,  4.38015737e-01,\n",
       "         1.79857586e-01,  2.21884542e-01, -4.01259049e-01,\n",
       "         2.52527866e-01],\n",
       "       [-3.19185863e-01,  1.54259580e-01,  7.84962257e-02,\n",
       "        -3.38719899e-01,  2.30369932e-01,  2.80647842e-02,\n",
       "         1.10328007e+00],\n",
       "       [-9.10769810e-01,  9.29805885e-02,  7.29224267e-01,\n",
       "         3.79855732e-01, -4.64016865e-01, -1.86290853e-01,\n",
       "         1.07910039e+00],\n",
       "       [ 3.09726443e-01,  2.91921310e-01, -1.27874403e-01,\n",
       "         1.87814593e-01, -1.43980415e-01,  1.31871445e-01,\n",
       "         1.01170310e+00],\n",
       "       [ 1.79936469e-01, -5.92196379e-02,  1.59951915e-01,\n",
       "         3.97818562e-01,  4.93351766e-02, -2.71690324e-01,\n",
       "         1.30794041e+00],\n",
       "       [ 1.72242678e-01,  1.68810893e-01,  1.08427345e-01,\n",
       "        -2.59398759e-01,  1.12279420e-01, -2.46659258e-01,\n",
       "         1.46086888e+00],\n",
       "       [ 5.33333730e-02, -3.05647458e-01, -1.78906051e-01,\n",
       "         7.01919822e-01, -7.79186927e-01, -2.55864400e-01,\n",
       "         1.69383389e+00],\n",
       "       [ 4.67544233e-01,  2.26081033e-01, -1.04039655e-01,\n",
       "         1.32276145e-01,  7.76768795e-03,  1.06358540e-02,\n",
       "         1.41115559e+00],\n",
       "       [ 8.83081345e-01,  6.58670045e-01,  2.12356764e-01,\n",
       "        -1.64746575e-01, -1.90201659e-01,  4.29366669e-01,\n",
       "         6.04698239e-01],\n",
       "       [ 3.18386655e-01,  2.27088656e-01,  1.58332464e-01,\n",
       "         1.25612351e-01, -1.08174699e-01, -6.49590489e-02,\n",
       "         1.70406987e+00],\n",
       "       [-6.99249916e-01,  3.51661812e-01,  5.25735355e-01,\n",
       "         3.19010432e-01, -1.36809964e-01,  2.02947630e-01,\n",
       "         1.36476504e+00],\n",
       "       [ 1.32944786e-01,  2.65272207e-01,  1.45599144e-01,\n",
       "         1.30219172e-01, -9.00690508e-02, -1.71838902e-01,\n",
       "         1.69052970e+00],\n",
       "       [-2.34400183e-01,  3.40779436e-01,  4.95915072e-01,\n",
       "         8.19938338e-02, -4.56165133e-02, -5.53712788e-03,\n",
       "         1.61185634e+00],\n",
       "       [ 2.96850748e-01,  3.11329738e-01,  2.49563828e-01,\n",
       "        -2.08095211e-01,  5.31937092e-01, -1.09151664e-01,\n",
       "         1.78406693e+00],\n",
       "       [ 1.54017217e-01, -2.04639696e-01,  1.29699421e-02,\n",
       "        -6.30380342e-02, -8.47100075e-02, -2.94861058e-01,\n",
       "         2.05335296e+00],\n",
       "       [ 4.65950594e-01, -1.88688898e-01,  8.82119130e-01,\n",
       "         1.55303649e-01, -3.32647002e-01, -1.69649609e-01,\n",
       "         1.97067428e+00],\n",
       "       [ 5.40988446e-01, -6.77619790e-01, -3.29449474e-01,\n",
       "         1.10586518e-01,  1.81386012e-01,  4.42674110e-02,\n",
       "         1.86926271e+00],\n",
       "       [-1.57639351e-01,  4.41285097e-01,  7.47668587e-01,\n",
       "        -6.66306341e-01,  5.12273841e-01, -6.28151053e-02,\n",
       "         1.90750561e+00],\n",
       "       [-6.72616985e-01,  5.16771684e-01, -4.14743829e-01,\n",
       "        -3.75375644e-01,  7.00288656e-01, -9.50088632e-02,\n",
       "         2.43987918e+00],\n",
       "       [ 8.19245108e-01,  2.00194720e-01,  1.37128773e-01,\n",
       "        -3.68899888e-01,  1.11764512e-01, -1.49345577e-01,\n",
       "         2.03004843e+00],\n",
       "       [-3.80902425e-01, -3.59507997e-01,  2.00491843e-02,\n",
       "        -5.95071886e-02,  9.69082222e-02,  4.56291176e-01,\n",
       "         1.00527870e+00],\n",
       "       [ 3.43849139e-01,  3.32063824e-01,  1.83879428e-01,\n",
       "         1.70965737e-01, -1.32638769e-01, -4.49631864e-01,\n",
       "         2.25071366e+00],\n",
       "       [ 7.38768433e-01,  6.66652607e-01,  6.28095616e-01,\n",
       "         1.42587741e-02, -2.07370047e-01,  3.04972995e-02,\n",
       "         1.67490159e+00],\n",
       "       [ 1.00983150e+00,  1.17090544e-01,  5.50527365e-03,\n",
       "         5.06298092e-01, -6.49013667e-01, -3.12329869e-01,\n",
       "         2.41658808e+00],\n",
       "       [ 9.77069246e-01,  2.33339073e-01, -8.31216474e-02,\n",
       "        -2.41198480e-01, -2.81810013e-01, -4.76288444e-02,\n",
       "         1.13356643e+00],\n",
       "       [ 4.62337435e-01,  6.32865246e-01,  2.96563620e-01,\n",
       "        -2.32539389e-01,  3.15876262e-01, -5.01598399e-01,\n",
       "         2.28323593e+00],\n",
       "       [ 7.39067838e-01,  1.16906348e-01,  7.16422630e-01,\n",
       "        -1.20136529e-01,  2.32827912e-01, -1.45439664e-01,\n",
       "         2.03819792e+00],\n",
       "       [ 5.69040634e-01,  3.76078940e-01,  6.33320154e-01,\n",
       "         1.13650157e-01, -3.07870665e-01, -1.59575562e-01,\n",
       "         2.32157410e+00],\n",
       "       [ 1.57065224e-01, -4.26018202e-01,  1.43879420e-01,\n",
       "         1.78886791e-01, -1.79348290e-01, -6.96466143e-01,\n",
       "         2.55131374e+00],\n",
       "       [ 5.97984133e-01,  9.08675688e-02,  1.12840960e+00,\n",
       "        -1.76501372e-01,  3.41228267e-01, -3.95790451e-01,\n",
       "         2.33772451e+00],\n",
       "       [ 1.41404799e-01, -8.98384382e-01,  8.93853188e-01,\n",
       "        -8.09195490e-02,  4.36222627e-01, -6.95159426e-01,\n",
       "         2.50971655e+00],\n",
       "       [ 7.19620691e-01, -4.52710250e-01,  4.50629058e-01,\n",
       "         3.62876133e-01, -3.07733808e-01, -3.50909911e-01,\n",
       "         2.62429834e+00],\n",
       "       [ 7.00301694e-01, -5.82612891e-01,  3.46391575e-01,\n",
       "        -6.52937125e-01, -7.92627377e-01, -1.73341242e-01,\n",
       "         2.45812724e+00],\n",
       "       [ 1.24210238e+00, -4.17170348e-01,  1.39193720e+00,\n",
       "        -1.46021928e-01, -3.24926749e-02, -2.75698046e-01,\n",
       "         2.46064657e+00],\n",
       "       [ 3.18295764e-01,  6.71106290e-01,  7.89521604e-01,\n",
       "        -1.23220692e-01, -3.95358943e-01, -1.70901081e-01,\n",
       "         2.50057908e+00],\n",
       "       [-2.18178358e-02,  9.49460431e-02,  5.35057004e-01,\n",
       "         3.23925015e-01, -4.81689245e-01, -1.45627200e-01,\n",
       "         2.77950792e+00],\n",
       "       [ 1.01293226e+00,  8.88893686e-01,  2.60591068e-01,\n",
       "        -3.85733278e-02,  3.66929619e-01, -8.36571280e-01,\n",
       "         2.71249322e+00],\n",
       "       [ 5.72986404e-01,  6.60682123e-02,  1.21590438e+00,\n",
       "        -1.00207261e-01, -2.44160389e-01, -4.16853316e-01,\n",
       "         2.91034442e+00],\n",
       "       [ 2.73609461e-01,  6.72525971e-01,  3.87027572e-01,\n",
       "        -1.82594168e-01, -3.45138282e-01, -1.16053559e-01,\n",
       "         2.76605360e+00],\n",
       "       [ 6.97127791e-01,  7.04484390e-01,  1.14857246e+00,\n",
       "         2.17813198e-01,  4.43292073e-01, -3.82074854e-01,\n",
       "         2.97364269e+00],\n",
       "       [ 5.17524876e-01,  4.29083447e-01,  1.26069210e+00,\n",
       "         5.97469561e-01, -3.69271924e-01, -2.88541237e-01,\n",
       "         3.01087627e+00],\n",
       "       [ 9.43034288e-01,  2.18421873e-01,  1.52553324e+00,\n",
       "         5.88838428e-01, -8.49295861e-01, -2.26068199e-01,\n",
       "         3.09516389e+00],\n",
       "       [ 3.44942809e-01,  6.82111460e-01,  1.20440711e-01,\n",
       "        -2.36386404e-01, -4.79410835e-01, -5.78485779e-01,\n",
       "         3.22712495e+00],\n",
       "       [ 5.64844874e-01,  5.01389940e-02,  4.43597662e-01,\n",
       "        -3.33621487e-01, -6.12547359e-01, -5.43871595e-01,\n",
       "         2.80872633e+00],\n",
       "       [ 7.77552739e-02, -7.04532147e-01,  6.10142847e-01,\n",
       "        -3.84397363e-01, -6.03494734e-02, -4.21425894e-01,\n",
       "         3.34879517e+00],\n",
       "       [ 2.75314948e-01,  2.47752010e-01,  5.46098309e-01,\n",
       "        -4.34979714e-01, -5.98672317e-01, -6.57146995e-01,\n",
       "         3.01852704e+00],\n",
       "       [ 7.61289207e-02,  3.53841232e-01,  6.27894262e-01,\n",
       "        -5.01137297e-01, -5.08331537e-01, -7.11382636e-01,\n",
       "         3.10839324e+00]])"
      ]
     },
     "execution_count": 57,
     "metadata": {},
     "output_type": "execute_result"
    }
   ],
   "source": [
    "model.coef_"
   ]
  },
  {
   "cell_type": "code",
   "execution_count": null,
   "metadata": {},
   "outputs": [
    {
     "name": "stdout",
     "output_type": "stream",
     "text": [
      "[-1.19335652 -0.58651871  0.69524979  1.11815992  0.857719    2.00486919\n",
      "  1.23496631  2.21816854  0.79731604  2.2140031   0.9144552   2.83530869\n",
      "  0.63988999  2.14857172  1.17486845  2.86880893  0.78432427  1.9766347\n",
      "  0.46272229  3.13225874 -0.5259315   1.62194262 -0.65418183  3.08647056\n",
      " -1.56898949  1.70734796 -1.3932868   3.21749374 -0.63082239  1.98905501\n",
      "  3.29298552  1.406057   -1.4166202   2.33174493 -0.05812878  3.99120673\n",
      "  0.68057861  3.49910447  1.6006924   1.07162515  4.00737289  0.70825\n",
      "  1.70808755  2.95077731 -0.99383811  4.13247455 -1.42377352  1.74976423\n",
      "  0.57118984  0.2036296   3.86679015 -0.89759346  0.27861657  1.93363122\n",
      "  3.79363675 -0.41515113 -2.59520388 -1.72449457  3.33864606 -1.7825884\n",
      "  0.26070848  3.54578387 -1.08756295 -1.81358016 -2.57012793  2.19981491\n",
      " -0.8828349  -1.19086704  3.32040585  1.2873038  -1.77657051  3.16333365\n",
      "  1.76227872  2.54301634  0.69409219  2.52374434  0.65028571  2.07704664\n",
      " -2.71605087  2.0027586   0.62287013  2.17023228  0.51708437  0.8012069\n",
      "  1.95693458 -1.02629026  0.05944861  0.83016918 -2.57551135  0.82027599\n",
      " -0.80957712  0.36379737 -2.38582972 -0.12375334 -2.30698415 -1.45069919\n",
      " -1.46263819 -0.5553364  -0.88053714 -2.38502527 -2.25016757 -1.76936938\n",
      " -2.70980713 -5.15478565 -4.34816825 -2.20247284 -4.08558706 -4.91280511\n",
      " -3.19529706 -6.61459519 -6.2708433  -7.12400007 -4.31235881 -4.44407647\n",
      " -5.5396914  -4.97221126 -5.22356649]\n"
     ]
    }
   ],
   "source": [
    "print(model.intercept_) "
   ]
  },
  {
   "cell_type": "markdown",
   "metadata": {},
   "source": [
    "## Evaluating the Model "
   ]
  },
  {
   "cell_type": "code",
   "execution_count": null,
   "metadata": {},
   "outputs": [
    {
     "data": {
      "text/plain": [
       "3.58"
      ]
     },
     "execution_count": 60,
     "metadata": {},
     "output_type": "execute_result"
    }
   ],
   "source": [
    "# our benchmark model\n",
    "base_model = round(df['current_value'].value_counts()[1]/df.shape[0]*100, 2)\n",
    "base_model"
   ]
  },
  {
   "cell_type": "markdown",
   "metadata": {},
   "source": [
    "1. Accuracy"
   ]
  },
  {
   "cell_type": "code",
   "execution_count": null,
   "metadata": {},
   "outputs": [
    {
     "data": {
      "text/plain": [
       "0.08652373660030628"
      ]
     },
     "execution_count": 61,
     "metadata": {},
     "output_type": "execute_result"
    }
   ],
   "source": [
    "# Evaluate the model\n",
    "accuracy = accuracy_score(y_test, y_pred)\n",
    "accuracy"
   ]
  },
  {
   "cell_type": "code",
   "execution_count": null,
   "metadata": {},
   "outputs": [
    {
     "data": {
      "text/plain": [
       "0.09496457974344247"
      ]
     },
     "execution_count": 62,
     "metadata": {},
     "output_type": "execute_result"
    }
   ],
   "source": [
    "y_pred_train = model.predict(X_train_scaled)\n",
    "accuracy = accuracy_score(y_train, y_pred_train)\n",
    "accuracy"
   ]
  },
  {
   "cell_type": "code",
   "execution_count": null,
   "metadata": {},
   "outputs": [
    {
     "data": {
      "text/plain": [
       "array([[ 0, 17,  0, ...,  0,  0,  0],\n",
       "       [ 0, 39,  0, ...,  0,  0,  0],\n",
       "       [ 0, 13,  0, ...,  0,  0,  0],\n",
       "       ...,\n",
       "       [ 0,  0,  0, ...,  0,  0,  0],\n",
       "       [ 0,  0,  0, ...,  0,  0,  0],\n",
       "       [ 0,  0,  0, ...,  1,  0,  0]])"
      ]
     },
     "execution_count": 63,
     "metadata": {},
     "output_type": "execute_result"
    }
   ],
   "source": [
    "conf_matrix = confusion_matrix(y_test, y_pred)\n",
    "conf_matrix"
   ]
  },
  {
   "cell_type": "code",
   "execution_count": null,
   "metadata": {},
   "outputs": [
    {
     "ename": "ValueError",
     "evalue": "The number of FixedLocator locations (99), usually from a call to set_ticks, does not match the number of labels (117).",
     "output_type": "error",
     "traceback": [
      "\u001b[0;31m---------------------------------------------------------------------------\u001b[0m",
      "\u001b[0;31mValueError\u001b[0m                                Traceback (most recent call last)",
      "Cell \u001b[0;32mIn[64], line 3\u001b[0m\n\u001b[1;32m      1\u001b[0m \u001b[38;5;28;01mfrom\u001b[39;00m \u001b[38;5;21;01msklearn\u001b[39;00m\u001b[38;5;21;01m.\u001b[39;00m\u001b[38;5;21;01mmetrics\u001b[39;00m \u001b[38;5;28;01mimport\u001b[39;00m confusion_matrix, ConfusionMatrixDisplay\n\u001b[0;32m----> 3\u001b[0m \u001b[43mConfusionMatrixDisplay\u001b[49m\u001b[38;5;241;43m.\u001b[39;49m\u001b[43mfrom_predictions\u001b[49m\u001b[43m(\u001b[49m\u001b[43my_test\u001b[49m\u001b[43m,\u001b[49m\u001b[43m \u001b[49m\u001b[43my_pred\u001b[49m\u001b[43m,\u001b[49m\n\u001b[1;32m      4\u001b[0m \u001b[43m                                        \u001b[49m\u001b[43mdisplay_labels\u001b[49m\u001b[38;5;241;43m=\u001b[39;49m\u001b[43mmodel\u001b[49m\u001b[38;5;241;43m.\u001b[39;49m\u001b[43mclasses_\u001b[49m\u001b[43m,\u001b[49m\n\u001b[1;32m      5\u001b[0m \u001b[43m                                        \u001b[49m\u001b[43mcmap\u001b[49m\u001b[38;5;241;43m=\u001b[39;49m\u001b[38;5;124;43m\"\u001b[39;49m\u001b[38;5;124;43mBlues\u001b[39;49m\u001b[38;5;124;43m\"\u001b[39;49m\u001b[43m,\u001b[49m\n\u001b[1;32m      6\u001b[0m \u001b[43m                                        \u001b[49m\u001b[43mxticks_rotation\u001b[49m\u001b[38;5;241;43m=\u001b[39;49m\u001b[38;5;124;43m'\u001b[39;49m\u001b[38;5;124;43mvertical\u001b[39;49m\u001b[38;5;124;43m'\u001b[39;49m\u001b[43m)\u001b[49m\n\u001b[1;32m      7\u001b[0m plt\u001b[38;5;241m.\u001b[39mtitle(\u001b[38;5;124m'\u001b[39m\u001b[38;5;124mConfusion Matrix\u001b[39m\u001b[38;5;124m'\u001b[39m)\n\u001b[1;32m      8\u001b[0m plt\u001b[38;5;241m.\u001b[39mshow()\n",
      "File \u001b[0;32m~/anaconda3/lib/python3.10/site-packages/sklearn/metrics/_plot/confusion_matrix.py:473\u001b[0m, in \u001b[0;36mConfusionMatrixDisplay.from_predictions\u001b[0;34m(cls, y_true, y_pred, labels, sample_weight, normalize, display_labels, include_values, xticks_rotation, values_format, cmap, ax, colorbar, im_kw, text_kw)\u001b[0m\n\u001b[1;32m    463\u001b[0m cm \u001b[38;5;241m=\u001b[39m confusion_matrix(\n\u001b[1;32m    464\u001b[0m     y_true,\n\u001b[1;32m    465\u001b[0m     y_pred,\n\u001b[0;32m   (...)\u001b[0m\n\u001b[1;32m    468\u001b[0m     normalize\u001b[38;5;241m=\u001b[39mnormalize,\n\u001b[1;32m    469\u001b[0m )\n\u001b[1;32m    471\u001b[0m disp \u001b[38;5;241m=\u001b[39m \u001b[38;5;28mcls\u001b[39m(confusion_matrix\u001b[38;5;241m=\u001b[39mcm, display_labels\u001b[38;5;241m=\u001b[39mdisplay_labels)\n\u001b[0;32m--> 473\u001b[0m \u001b[38;5;28;01mreturn\u001b[39;00m \u001b[43mdisp\u001b[49m\u001b[38;5;241;43m.\u001b[39;49m\u001b[43mplot\u001b[49m\u001b[43m(\u001b[49m\n\u001b[1;32m    474\u001b[0m \u001b[43m    \u001b[49m\u001b[43minclude_values\u001b[49m\u001b[38;5;241;43m=\u001b[39;49m\u001b[43minclude_values\u001b[49m\u001b[43m,\u001b[49m\n\u001b[1;32m    475\u001b[0m \u001b[43m    \u001b[49m\u001b[43mcmap\u001b[49m\u001b[38;5;241;43m=\u001b[39;49m\u001b[43mcmap\u001b[49m\u001b[43m,\u001b[49m\n\u001b[1;32m    476\u001b[0m \u001b[43m    \u001b[49m\u001b[43max\u001b[49m\u001b[38;5;241;43m=\u001b[39;49m\u001b[43max\u001b[49m\u001b[43m,\u001b[49m\n\u001b[1;32m    477\u001b[0m \u001b[43m    \u001b[49m\u001b[43mxticks_rotation\u001b[49m\u001b[38;5;241;43m=\u001b[39;49m\u001b[43mxticks_rotation\u001b[49m\u001b[43m,\u001b[49m\n\u001b[1;32m    478\u001b[0m \u001b[43m    \u001b[49m\u001b[43mvalues_format\u001b[49m\u001b[38;5;241;43m=\u001b[39;49m\u001b[43mvalues_format\u001b[49m\u001b[43m,\u001b[49m\n\u001b[1;32m    479\u001b[0m \u001b[43m    \u001b[49m\u001b[43mcolorbar\u001b[49m\u001b[38;5;241;43m=\u001b[39;49m\u001b[43mcolorbar\u001b[49m\u001b[43m,\u001b[49m\n\u001b[1;32m    480\u001b[0m \u001b[43m    \u001b[49m\u001b[43mim_kw\u001b[49m\u001b[38;5;241;43m=\u001b[39;49m\u001b[43mim_kw\u001b[49m\u001b[43m,\u001b[49m\n\u001b[1;32m    481\u001b[0m \u001b[43m    \u001b[49m\u001b[43mtext_kw\u001b[49m\u001b[38;5;241;43m=\u001b[39;49m\u001b[43mtext_kw\u001b[49m\u001b[43m,\u001b[49m\n\u001b[1;32m    482\u001b[0m \u001b[43m\u001b[49m\u001b[43m)\u001b[49m\n",
      "File \u001b[0;32m~/anaconda3/lib/python3.10/site-packages/sklearn/metrics/_plot/confusion_matrix.py:181\u001b[0m, in \u001b[0;36mConfusionMatrixDisplay.plot\u001b[0;34m(self, include_values, cmap, xticks_rotation, values_format, ax, colorbar, im_kw, text_kw)\u001b[0m\n\u001b[1;32m    179\u001b[0m \u001b[38;5;28;01mif\u001b[39;00m colorbar:\n\u001b[1;32m    180\u001b[0m     fig\u001b[38;5;241m.\u001b[39mcolorbar(\u001b[38;5;28mself\u001b[39m\u001b[38;5;241m.\u001b[39mim_, ax\u001b[38;5;241m=\u001b[39max)\n\u001b[0;32m--> 181\u001b[0m \u001b[43max\u001b[49m\u001b[38;5;241;43m.\u001b[39;49m\u001b[43mset\u001b[49m\u001b[43m(\u001b[49m\n\u001b[1;32m    182\u001b[0m \u001b[43m    \u001b[49m\u001b[43mxticks\u001b[49m\u001b[38;5;241;43m=\u001b[39;49m\u001b[43mnp\u001b[49m\u001b[38;5;241;43m.\u001b[39;49m\u001b[43marange\u001b[49m\u001b[43m(\u001b[49m\u001b[43mn_classes\u001b[49m\u001b[43m)\u001b[49m\u001b[43m,\u001b[49m\n\u001b[1;32m    183\u001b[0m \u001b[43m    \u001b[49m\u001b[43myticks\u001b[49m\u001b[38;5;241;43m=\u001b[39;49m\u001b[43mnp\u001b[49m\u001b[38;5;241;43m.\u001b[39;49m\u001b[43marange\u001b[49m\u001b[43m(\u001b[49m\u001b[43mn_classes\u001b[49m\u001b[43m)\u001b[49m\u001b[43m,\u001b[49m\n\u001b[1;32m    184\u001b[0m \u001b[43m    \u001b[49m\u001b[43mxticklabels\u001b[49m\u001b[38;5;241;43m=\u001b[39;49m\u001b[43mdisplay_labels\u001b[49m\u001b[43m,\u001b[49m\n\u001b[1;32m    185\u001b[0m \u001b[43m    \u001b[49m\u001b[43myticklabels\u001b[49m\u001b[38;5;241;43m=\u001b[39;49m\u001b[43mdisplay_labels\u001b[49m\u001b[43m,\u001b[49m\n\u001b[1;32m    186\u001b[0m \u001b[43m    \u001b[49m\u001b[43mylabel\u001b[49m\u001b[38;5;241;43m=\u001b[39;49m\u001b[38;5;124;43m\"\u001b[39;49m\u001b[38;5;124;43mTrue label\u001b[39;49m\u001b[38;5;124;43m\"\u001b[39;49m\u001b[43m,\u001b[49m\n\u001b[1;32m    187\u001b[0m \u001b[43m    \u001b[49m\u001b[43mxlabel\u001b[49m\u001b[38;5;241;43m=\u001b[39;49m\u001b[38;5;124;43m\"\u001b[39;49m\u001b[38;5;124;43mPredicted label\u001b[39;49m\u001b[38;5;124;43m\"\u001b[39;49m\u001b[43m,\u001b[49m\n\u001b[1;32m    188\u001b[0m \u001b[43m\u001b[49m\u001b[43m)\u001b[49m\n\u001b[1;32m    190\u001b[0m ax\u001b[38;5;241m.\u001b[39mset_ylim((n_classes \u001b[38;5;241m-\u001b[39m \u001b[38;5;241m0.5\u001b[39m, \u001b[38;5;241m-\u001b[39m\u001b[38;5;241m0.5\u001b[39m))\n\u001b[1;32m    191\u001b[0m plt\u001b[38;5;241m.\u001b[39msetp(ax\u001b[38;5;241m.\u001b[39mget_xticklabels(), rotation\u001b[38;5;241m=\u001b[39mxticks_rotation)\n",
      "File \u001b[0;32m~/anaconda3/lib/python3.10/site-packages/matplotlib/artist.py:147\u001b[0m, in \u001b[0;36mArtist.__init_subclass__.<locals>.<lambda>\u001b[0;34m(self, **kwargs)\u001b[0m\n\u001b[1;32m    139\u001b[0m \u001b[38;5;28;01mif\u001b[39;00m \u001b[38;5;129;01mnot\u001b[39;00m \u001b[38;5;28mhasattr\u001b[39m(\u001b[38;5;28mcls\u001b[39m\u001b[38;5;241m.\u001b[39mset, \u001b[38;5;124m'\u001b[39m\u001b[38;5;124m_autogenerated_signature\u001b[39m\u001b[38;5;124m'\u001b[39m):\n\u001b[1;32m    140\u001b[0m     \u001b[38;5;66;03m# Don't overwrite cls.set if the subclass or one of its parents\u001b[39;00m\n\u001b[1;32m    141\u001b[0m     \u001b[38;5;66;03m# has defined a set method set itself.\u001b[39;00m\n\u001b[1;32m    142\u001b[0m     \u001b[38;5;66;03m# If there was no explicit definition, cls.set is inherited from\u001b[39;00m\n\u001b[1;32m    143\u001b[0m     \u001b[38;5;66;03m# the hierarchy of auto-generated set methods, which hold the\u001b[39;00m\n\u001b[1;32m    144\u001b[0m     \u001b[38;5;66;03m# flag _autogenerated_signature.\u001b[39;00m\n\u001b[1;32m    145\u001b[0m     \u001b[38;5;28;01mreturn\u001b[39;00m\n\u001b[0;32m--> 147\u001b[0m \u001b[38;5;28mcls\u001b[39m\u001b[38;5;241m.\u001b[39mset \u001b[38;5;241m=\u001b[39m \u001b[38;5;28;01mlambda\u001b[39;00m \u001b[38;5;28mself\u001b[39m, \u001b[38;5;241m*\u001b[39m\u001b[38;5;241m*\u001b[39mkwargs: \u001b[43mArtist\u001b[49m\u001b[38;5;241;43m.\u001b[39;49m\u001b[43mset\u001b[49m\u001b[43m(\u001b[49m\u001b[38;5;28;43mself\u001b[39;49m\u001b[43m,\u001b[49m\u001b[43m \u001b[49m\u001b[38;5;241;43m*\u001b[39;49m\u001b[38;5;241;43m*\u001b[39;49m\u001b[43mkwargs\u001b[49m\u001b[43m)\u001b[49m\n\u001b[1;32m    148\u001b[0m \u001b[38;5;28mcls\u001b[39m\u001b[38;5;241m.\u001b[39mset\u001b[38;5;241m.\u001b[39m\u001b[38;5;18m__name__\u001b[39m \u001b[38;5;241m=\u001b[39m \u001b[38;5;124m\"\u001b[39m\u001b[38;5;124mset\u001b[39m\u001b[38;5;124m\"\u001b[39m\n\u001b[1;32m    149\u001b[0m \u001b[38;5;28mcls\u001b[39m\u001b[38;5;241m.\u001b[39mset\u001b[38;5;241m.\u001b[39m\u001b[38;5;18m__qualname__\u001b[39m \u001b[38;5;241m=\u001b[39m \u001b[38;5;124mf\u001b[39m\u001b[38;5;124m\"\u001b[39m\u001b[38;5;132;01m{\u001b[39;00m\u001b[38;5;28mcls\u001b[39m\u001b[38;5;241m.\u001b[39m\u001b[38;5;18m__qualname__\u001b[39m\u001b[38;5;132;01m}\u001b[39;00m\u001b[38;5;124m.set\u001b[39m\u001b[38;5;124m\"\u001b[39m\n",
      "File \u001b[0;32m~/anaconda3/lib/python3.10/site-packages/matplotlib/artist.py:1231\u001b[0m, in \u001b[0;36mArtist.set\u001b[0;34m(self, **kwargs)\u001b[0m\n\u001b[1;32m   1227\u001b[0m \u001b[38;5;28;01mdef\u001b[39;00m \u001b[38;5;21mset\u001b[39m(\u001b[38;5;28mself\u001b[39m, \u001b[38;5;241m*\u001b[39m\u001b[38;5;241m*\u001b[39mkwargs):\n\u001b[1;32m   1228\u001b[0m     \u001b[38;5;66;03m# docstring and signature are auto-generated via\u001b[39;00m\n\u001b[1;32m   1229\u001b[0m     \u001b[38;5;66;03m# Artist._update_set_signature_and_docstring() at the end of the\u001b[39;00m\n\u001b[1;32m   1230\u001b[0m     \u001b[38;5;66;03m# module.\u001b[39;00m\n\u001b[0;32m-> 1231\u001b[0m     \u001b[38;5;28;01mreturn\u001b[39;00m \u001b[38;5;28;43mself\u001b[39;49m\u001b[38;5;241;43m.\u001b[39;49m\u001b[43m_internal_update\u001b[49m\u001b[43m(\u001b[49m\u001b[43mcbook\u001b[49m\u001b[38;5;241;43m.\u001b[39;49m\u001b[43mnormalize_kwargs\u001b[49m\u001b[43m(\u001b[49m\u001b[43mkwargs\u001b[49m\u001b[43m,\u001b[49m\u001b[43m \u001b[49m\u001b[38;5;28;43mself\u001b[39;49m\u001b[43m)\u001b[49m\u001b[43m)\u001b[49m\n",
      "File \u001b[0;32m~/anaconda3/lib/python3.10/site-packages/matplotlib/artist.py:1223\u001b[0m, in \u001b[0;36mArtist._internal_update\u001b[0;34m(self, kwargs)\u001b[0m\n\u001b[1;32m   1216\u001b[0m \u001b[38;5;28;01mdef\u001b[39;00m \u001b[38;5;21m_internal_update\u001b[39m(\u001b[38;5;28mself\u001b[39m, kwargs):\n\u001b[1;32m   1217\u001b[0m \u001b[38;5;250m    \u001b[39m\u001b[38;5;124;03m\"\"\"\u001b[39;00m\n\u001b[1;32m   1218\u001b[0m \u001b[38;5;124;03m    Update artist properties without prenormalizing them, but generating\u001b[39;00m\n\u001b[1;32m   1219\u001b[0m \u001b[38;5;124;03m    errors as if calling `set`.\u001b[39;00m\n\u001b[1;32m   1220\u001b[0m \n\u001b[1;32m   1221\u001b[0m \u001b[38;5;124;03m    The lack of prenormalization is to maintain backcompatibility.\u001b[39;00m\n\u001b[1;32m   1222\u001b[0m \u001b[38;5;124;03m    \"\"\"\u001b[39;00m\n\u001b[0;32m-> 1223\u001b[0m     \u001b[38;5;28;01mreturn\u001b[39;00m \u001b[38;5;28;43mself\u001b[39;49m\u001b[38;5;241;43m.\u001b[39;49m\u001b[43m_update_props\u001b[49m\u001b[43m(\u001b[49m\n\u001b[1;32m   1224\u001b[0m \u001b[43m        \u001b[49m\u001b[43mkwargs\u001b[49m\u001b[43m,\u001b[49m\u001b[43m \u001b[49m\u001b[38;5;124;43m\"\u001b[39;49m\u001b[38;5;132;43;01m{cls.__name__}\u001b[39;49;00m\u001b[38;5;124;43m.set() got an unexpected keyword argument \u001b[39;49m\u001b[38;5;124;43m\"\u001b[39;49m\n\u001b[1;32m   1225\u001b[0m \u001b[43m        \u001b[49m\u001b[38;5;124;43m\"\u001b[39;49m\u001b[38;5;132;43;01m{prop_name!r}\u001b[39;49;00m\u001b[38;5;124;43m\"\u001b[39;49m\u001b[43m)\u001b[49m\n",
      "File \u001b[0;32m~/anaconda3/lib/python3.10/site-packages/matplotlib/artist.py:1199\u001b[0m, in \u001b[0;36mArtist._update_props\u001b[0;34m(self, props, errfmt)\u001b[0m\n\u001b[1;32m   1196\u001b[0m             \u001b[38;5;28;01mif\u001b[39;00m \u001b[38;5;129;01mnot\u001b[39;00m \u001b[38;5;28mcallable\u001b[39m(func):\n\u001b[1;32m   1197\u001b[0m                 \u001b[38;5;28;01mraise\u001b[39;00m \u001b[38;5;167;01mAttributeError\u001b[39;00m(\n\u001b[1;32m   1198\u001b[0m                     errfmt\u001b[38;5;241m.\u001b[39mformat(\u001b[38;5;28mcls\u001b[39m\u001b[38;5;241m=\u001b[39m\u001b[38;5;28mtype\u001b[39m(\u001b[38;5;28mself\u001b[39m), prop_name\u001b[38;5;241m=\u001b[39mk))\n\u001b[0;32m-> 1199\u001b[0m             ret\u001b[38;5;241m.\u001b[39mappend(\u001b[43mfunc\u001b[49m\u001b[43m(\u001b[49m\u001b[43mv\u001b[49m\u001b[43m)\u001b[49m)\n\u001b[1;32m   1200\u001b[0m \u001b[38;5;28;01mif\u001b[39;00m ret:\n\u001b[1;32m   1201\u001b[0m     \u001b[38;5;28mself\u001b[39m\u001b[38;5;241m.\u001b[39mpchanged()\n",
      "File \u001b[0;32m~/anaconda3/lib/python3.10/site-packages/matplotlib/axes/_base.py:74\u001b[0m, in \u001b[0;36m_axis_method_wrapper.__set_name__.<locals>.wrapper\u001b[0;34m(self, *args, **kwargs)\u001b[0m\n\u001b[1;32m     73\u001b[0m \u001b[38;5;28;01mdef\u001b[39;00m \u001b[38;5;21mwrapper\u001b[39m(\u001b[38;5;28mself\u001b[39m, \u001b[38;5;241m*\u001b[39margs, \u001b[38;5;241m*\u001b[39m\u001b[38;5;241m*\u001b[39mkwargs):\n\u001b[0;32m---> 74\u001b[0m     \u001b[38;5;28;01mreturn\u001b[39;00m \u001b[43mget_method\u001b[49m\u001b[43m(\u001b[49m\u001b[38;5;28;43mself\u001b[39;49m\u001b[43m)\u001b[49m\u001b[43m(\u001b[49m\u001b[38;5;241;43m*\u001b[39;49m\u001b[43margs\u001b[49m\u001b[43m,\u001b[49m\u001b[43m \u001b[49m\u001b[38;5;241;43m*\u001b[39;49m\u001b[38;5;241;43m*\u001b[39;49m\u001b[43mkwargs\u001b[49m\u001b[43m)\u001b[49m\n",
      "File \u001b[0;32m~/anaconda3/lib/python3.10/site-packages/matplotlib/_api/deprecation.py:297\u001b[0m, in \u001b[0;36mrename_parameter.<locals>.wrapper\u001b[0;34m(*args, **kwargs)\u001b[0m\n\u001b[1;32m    292\u001b[0m     warn_deprecated(\n\u001b[1;32m    293\u001b[0m         since, message\u001b[38;5;241m=\u001b[39m\u001b[38;5;124mf\u001b[39m\u001b[38;5;124m\"\u001b[39m\u001b[38;5;124mThe \u001b[39m\u001b[38;5;132;01m{\u001b[39;00mold\u001b[38;5;132;01m!r}\u001b[39;00m\u001b[38;5;124m parameter of \u001b[39m\u001b[38;5;132;01m{\u001b[39;00mfunc\u001b[38;5;241m.\u001b[39m\u001b[38;5;18m__name__\u001b[39m\u001b[38;5;132;01m}\u001b[39;00m\u001b[38;5;124m() \u001b[39m\u001b[38;5;124m\"\u001b[39m\n\u001b[1;32m    294\u001b[0m         \u001b[38;5;124mf\u001b[39m\u001b[38;5;124m\"\u001b[39m\u001b[38;5;124mhas been renamed \u001b[39m\u001b[38;5;132;01m{\u001b[39;00mnew\u001b[38;5;132;01m!r}\u001b[39;00m\u001b[38;5;124m since Matplotlib \u001b[39m\u001b[38;5;132;01m{\u001b[39;00msince\u001b[38;5;132;01m}\u001b[39;00m\u001b[38;5;124m; support \u001b[39m\u001b[38;5;124m\"\u001b[39m\n\u001b[1;32m    295\u001b[0m         \u001b[38;5;124mf\u001b[39m\u001b[38;5;124m\"\u001b[39m\u001b[38;5;124mfor the old name will be dropped %(removal)s.\u001b[39m\u001b[38;5;124m\"\u001b[39m)\n\u001b[1;32m    296\u001b[0m     kwargs[new] \u001b[38;5;241m=\u001b[39m kwargs\u001b[38;5;241m.\u001b[39mpop(old)\n\u001b[0;32m--> 297\u001b[0m \u001b[38;5;28;01mreturn\u001b[39;00m \u001b[43mfunc\u001b[49m\u001b[43m(\u001b[49m\u001b[38;5;241;43m*\u001b[39;49m\u001b[43margs\u001b[49m\u001b[43m,\u001b[49m\u001b[43m \u001b[49m\u001b[38;5;241;43m*\u001b[39;49m\u001b[38;5;241;43m*\u001b[39;49m\u001b[43mkwargs\u001b[49m\u001b[43m)\u001b[49m\n",
      "File \u001b[0;32m~/anaconda3/lib/python3.10/site-packages/matplotlib/axis.py:1973\u001b[0m, in \u001b[0;36mAxis.set_ticklabels\u001b[0;34m(self, labels, minor, fontdict, **kwargs)\u001b[0m\n\u001b[1;32m   1969\u001b[0m \u001b[38;5;28;01mif\u001b[39;00m \u001b[38;5;28misinstance\u001b[39m(locator, mticker\u001b[38;5;241m.\u001b[39mFixedLocator):\n\u001b[1;32m   1970\u001b[0m     \u001b[38;5;66;03m# Passing [] as a list of labels is often used as a way to\u001b[39;00m\n\u001b[1;32m   1971\u001b[0m     \u001b[38;5;66;03m# remove all tick labels, so only error for > 0 labels\u001b[39;00m\n\u001b[1;32m   1972\u001b[0m     \u001b[38;5;28;01mif\u001b[39;00m \u001b[38;5;28mlen\u001b[39m(locator\u001b[38;5;241m.\u001b[39mlocs) \u001b[38;5;241m!=\u001b[39m \u001b[38;5;28mlen\u001b[39m(labels) \u001b[38;5;129;01mand\u001b[39;00m \u001b[38;5;28mlen\u001b[39m(labels) \u001b[38;5;241m!=\u001b[39m \u001b[38;5;241m0\u001b[39m:\n\u001b[0;32m-> 1973\u001b[0m         \u001b[38;5;28;01mraise\u001b[39;00m \u001b[38;5;167;01mValueError\u001b[39;00m(\n\u001b[1;32m   1974\u001b[0m             \u001b[38;5;124m\"\u001b[39m\u001b[38;5;124mThe number of FixedLocator locations\u001b[39m\u001b[38;5;124m\"\u001b[39m\n\u001b[1;32m   1975\u001b[0m             \u001b[38;5;124mf\u001b[39m\u001b[38;5;124m\"\u001b[39m\u001b[38;5;124m (\u001b[39m\u001b[38;5;132;01m{\u001b[39;00m\u001b[38;5;28mlen\u001b[39m(locator\u001b[38;5;241m.\u001b[39mlocs)\u001b[38;5;132;01m}\u001b[39;00m\u001b[38;5;124m), usually from a call to\u001b[39m\u001b[38;5;124m\"\u001b[39m\n\u001b[1;32m   1976\u001b[0m             \u001b[38;5;124m\"\u001b[39m\u001b[38;5;124m set_ticks, does not match\u001b[39m\u001b[38;5;124m\"\u001b[39m\n\u001b[1;32m   1977\u001b[0m             \u001b[38;5;124mf\u001b[39m\u001b[38;5;124m\"\u001b[39m\u001b[38;5;124m the number of labels (\u001b[39m\u001b[38;5;132;01m{\u001b[39;00m\u001b[38;5;28mlen\u001b[39m(labels)\u001b[38;5;132;01m}\u001b[39;00m\u001b[38;5;124m).\u001b[39m\u001b[38;5;124m\"\u001b[39m)\n\u001b[1;32m   1978\u001b[0m     tickd \u001b[38;5;241m=\u001b[39m {loc: lab \u001b[38;5;28;01mfor\u001b[39;00m loc, lab \u001b[38;5;129;01min\u001b[39;00m \u001b[38;5;28mzip\u001b[39m(locator\u001b[38;5;241m.\u001b[39mlocs, labels)}\n\u001b[1;32m   1979\u001b[0m     func \u001b[38;5;241m=\u001b[39m functools\u001b[38;5;241m.\u001b[39mpartial(\u001b[38;5;28mself\u001b[39m\u001b[38;5;241m.\u001b[39m_format_with_dict, tickd)\n",
      "\u001b[0;31mValueError\u001b[0m: The number of FixedLocator locations (99), usually from a call to set_ticks, does not match the number of labels (117)."
     ]
    },
    {
     "data": {
      "image/png": "[encoded data removed]",
      "text/plain": [
       "<Figure size 640x480 with 2 Axes>"
      ]
     },
     "metadata": {},
     "output_type": "display_data"
    }
   ],
   "source": [
    "from sklearn.metrics import confusion_matrix, ConfusionMatrixDisplay\n",
    "\n",
    "ConfusionMatrixDisplay.from_predictions(y_test, y_pred,\n",
    "                                        display_labels=model.classes_,\n",
    "                                        cmap=\"Blues\",\n",
    "                                        xticks_rotation='vertical')\n",
    "plt.title('Confusion Matrix')\n",
    "plt.show()"
   ]
  },
  {
   "cell_type": "code",
   "execution_count": null,
   "metadata": {},
   "outputs": [
    {
     "name": "stdout",
     "output_type": "stream",
     "text": [
      "Precision: 0.02\n"
     ]
    }
   ],
   "source": [
    "# Calculate Precision\n",
    "precision = precision_score(y_test, y_pred, average='macro')\n",
    "print(f\"Precision: {precision:.2f}\")"
   ]
  },
  {
   "cell_type": "code",
   "execution_count": null,
   "metadata": {},
   "outputs": [
    {
     "name": "stdout",
     "output_type": "stream",
     "text": [
      "Recall: 0.03\n"
     ]
    }
   ],
   "source": [
    "# Calculate Recall\n",
    "recall = recall_score(y_test, y_pred, average='macro')\n",
    "print(f\"Recall: {recall:.2f}\")"
   ]
  },
  {
   "cell_type": "code",
   "execution_count": null,
   "metadata": {},
   "outputs": [
    {
     "name": "stdout",
     "output_type": "stream",
     "text": [
      "F1 Score: 0.02\n"
     ]
    }
   ],
   "source": [
    "# Calculate F1 Score\n",
    "f1 = f1_score(y_test, y_pred, average='macro')\n",
    "print(f\"F1 Score: {f1:.2f}\")"
   ]
  },
  {
   "cell_type": "code",
   "execution_count": null,
   "metadata": {},
   "outputs": [],
   "source": []
  }
 ],
 "metadata": {
  "kernelspec": {
   "display_name": "base",
   "language": "python",
   "name": "python3"
  },
  "language_info": {
   "codemirror_mode": {
    "name": "ipython",
    "version": 3
   },
   "file_extension": ".py",
   "mimetype": "text/x-python",
   "name": "python",
   "nbconvert_exporter": "python",
   "pygments_lexer": "ipython3",
   "version": "3.10.14"
  }
 },
 "nbformat": 4,
 "nbformat_minor": 4
}
